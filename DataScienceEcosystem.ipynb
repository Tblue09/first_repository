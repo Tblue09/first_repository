{
 "cells": [
  {
   "cell_type": "markdown",
   "id": "929778a8-a9d7-4725-abd3-46a633da2813",
   "metadata": {},
   "source": [
    "# Data Science Tools and Ecosystem"
   ]
  },
  {
   "cell_type": "markdown",
   "id": "de6defc5-d198-411e-9d0a-bef6b45f7186",
   "metadata": {},
   "source": [
    "In this notebook, Data Science Tools and Ecosystem are summarized."
   ]
  },
  {
   "cell_type": "markdown",
   "id": "ce90a52a-b0d3-440d-8214-7cce8ae4a6ce",
   "metadata": {},
   "source": [
    "**Objectifs:**\n",
    "- List popular languages for Data Science\n",
    "- List commonly libraries used by Data Scientist\n",
    "- Some open-source Data Science Tools"
   ]
  },
  {
   "cell_type": "markdown",
   "id": "4c8670b7-89f2-486f-829c-539e94c4d6a6",
   "metadata": {},
   "source": [
    "Some of the popular languages that Data Scientists use are:\n",
    "1. Python\n",
    "2. R\n",
    "3. Java"
   ]
  },
  {
   "cell_type": "markdown",
   "id": "eaa99f03-704f-4bf2-9cb9-fe4eb960fc24",
   "metadata": {},
   "source": [
    "Some of the commonly used libraries used by Data Scientists include:\n",
    "1. Pandas\n",
    "2. Numpy\n",
    "3. Matplotlib\n",
    "   "
   ]
  },
  {
   "cell_type": "markdown",
   "id": "637682d1-b66e-435d-9ffe-f14b5736294b",
   "metadata": {},
   "source": [
    "| Data Science Tools|\n",
    "|-------------------|\n",
    "|Spyder|\n",
    "|Rstudio|\n",
    "|Jupyter Notebook|"
   ]
  },
  {
   "cell_type": "markdown",
   "id": "1999a483-809a-4c9c-bdc3-4b6ac9cd2978",
   "metadata": {},
   "source": [
    "### Below are a few examples of evaluating arithmetic expressions in Python"
   ]
  },
  {
   "cell_type": "code",
   "execution_count": 1,
   "id": "91dda4fd-e878-435b-8e02-7929d2281335",
   "metadata": {},
   "outputs": [
    {
     "data": {
      "text/plain": [
       "17"
      ]
     },
     "execution_count": 1,
     "metadata": {},
     "output_type": "execute_result"
    }
   ],
   "source": [
    "# This a simple arithmetic expression to mutiply then add integers\n",
    "(3*4)+5"
   ]
  },
  {
   "cell_type": "code",
   "execution_count": 2,
   "id": "7d9a9830-5d47-4d39-90c7-12681be6d0d9",
   "metadata": {},
   "outputs": [
    {
     "data": {
      "text/plain": [
       "3.3333333333333335"
      ]
     },
     "execution_count": 2,
     "metadata": {},
     "output_type": "execute_result"
    }
   ],
   "source": [
    "# This will convert 200 minutes to hours by diving by 60\n",
    "200/60"
   ]
  },
  {
   "cell_type": "markdown",
   "id": "bd243d03-b8a5-4783-9189-99fe92adedd1",
   "metadata": {},
   "source": [
    "## Author\n",
    "AGOSSOUVO Chantelas"
   ]
  },
  {
   "cell_type": "code",
   "execution_count": null,
   "id": "33405c15-d5c9-4833-befe-e50fe905040a",
   "metadata": {},
   "outputs": [],
   "source": []
  }
 ],
 "metadata": {
  "kernelspec": {
   "display_name": "Python 3 (ipykernel)",
   "language": "python",
   "name": "python3"
  },
  "language_info": {
   "codemirror_mode": {
    "name": "ipython",
    "version": 3
   },
   "file_extension": ".py",
   "mimetype": "text/x-python",
   "name": "python",
   "nbconvert_exporter": "python",
   "pygments_lexer": "ipython3",
   "version": "3.11.9"
  }
 },
 "nbformat": 4,
 "nbformat_minor": 5
}
